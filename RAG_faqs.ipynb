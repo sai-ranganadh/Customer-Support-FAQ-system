{
  "nbformat": 4,
  "nbformat_minor": 0,
  "metadata": {
    "colab": {
      "provenance": [],
      "mount_file_id": "1UzfTooK5KO879-Zk29qJSLwtVQNr55ct",
      "authorship_tag": "ABX9TyOSz7p9vbB5cX+xpxH3Ke5e",
      "include_colab_link": true
    },
    "kernelspec": {
      "name": "python3",
      "display_name": "Python 3"
    },
    "language_info": {
      "name": "python"
    }
  },
  "cells": [
    {
      "cell_type": "markdown",
      "metadata": {
        "id": "view-in-github",
        "colab_type": "text"
      },
      "source": [
        "<a href=\"https://colab.research.google.com/github/sai-ranganadh/Customer-Support-FAQ-system/blob/main/RAG_faqs.ipynb\" target=\"_parent\"><img src=\"https://colab.research.google.com/assets/colab-badge.svg\" alt=\"Open In Colab\"/></a>"
      ]
    },
    {
      "cell_type": "code",
      "execution_count": 1,
      "metadata": {
        "colab": {
          "base_uri": "https://localhost:8080/"
        },
        "id": "8Bfs1vSj54wa",
        "outputId": "fbb838ee-e648-407f-a8ad-0d3d059891f0"
      },
      "outputs": [
        {
          "output_type": "stream",
          "name": "stdout",
          "text": [
            "Requirement already satisfied: transformers in /usr/local/lib/python3.10/dist-packages (4.47.1)\n",
            "Requirement already satisfied: torch in /usr/local/lib/python3.10/dist-packages (2.5.1+cu121)\n",
            "Requirement already satisfied: faiss-cpu in /usr/local/lib/python3.10/dist-packages (1.9.0.post1)\n",
            "Requirement already satisfied: filelock in /usr/local/lib/python3.10/dist-packages (from transformers) (3.16.1)\n",
            "Requirement already satisfied: huggingface-hub<1.0,>=0.24.0 in /usr/local/lib/python3.10/dist-packages (from transformers) (0.27.0)\n",
            "Requirement already satisfied: numpy>=1.17 in /usr/local/lib/python3.10/dist-packages (from transformers) (1.26.4)\n",
            "Requirement already satisfied: packaging>=20.0 in /usr/local/lib/python3.10/dist-packages (from transformers) (24.2)\n",
            "Requirement already satisfied: pyyaml>=5.1 in /usr/local/lib/python3.10/dist-packages (from transformers) (6.0.2)\n",
            "Requirement already satisfied: regex!=2019.12.17 in /usr/local/lib/python3.10/dist-packages (from transformers) (2024.11.6)\n",
            "Requirement already satisfied: requests in /usr/local/lib/python3.10/dist-packages (from transformers) (2.32.3)\n",
            "Requirement already satisfied: tokenizers<0.22,>=0.21 in /usr/local/lib/python3.10/dist-packages (from transformers) (0.21.0)\n",
            "Requirement already satisfied: safetensors>=0.4.1 in /usr/local/lib/python3.10/dist-packages (from transformers) (0.4.5)\n",
            "Requirement already satisfied: tqdm>=4.27 in /usr/local/lib/python3.10/dist-packages (from transformers) (4.67.1)\n",
            "Requirement already satisfied: typing-extensions>=4.8.0 in /usr/local/lib/python3.10/dist-packages (from torch) (4.12.2)\n",
            "Requirement already satisfied: networkx in /usr/local/lib/python3.10/dist-packages (from torch) (3.4.2)\n",
            "Requirement already satisfied: jinja2 in /usr/local/lib/python3.10/dist-packages (from torch) (3.1.4)\n",
            "Requirement already satisfied: fsspec in /usr/local/lib/python3.10/dist-packages (from torch) (2024.10.0)\n",
            "Requirement already satisfied: sympy==1.13.1 in /usr/local/lib/python3.10/dist-packages (from torch) (1.13.1)\n",
            "Requirement already satisfied: mpmath<1.4,>=1.1.0 in /usr/local/lib/python3.10/dist-packages (from sympy==1.13.1->torch) (1.3.0)\n",
            "Requirement already satisfied: MarkupSafe>=2.0 in /usr/local/lib/python3.10/dist-packages (from jinja2->torch) (3.0.2)\n",
            "Requirement already satisfied: charset-normalizer<4,>=2 in /usr/local/lib/python3.10/dist-packages (from requests->transformers) (3.4.0)\n",
            "Requirement already satisfied: idna<4,>=2.5 in /usr/local/lib/python3.10/dist-packages (from requests->transformers) (3.10)\n",
            "Requirement already satisfied: urllib3<3,>=1.21.1 in /usr/local/lib/python3.10/dist-packages (from requests->transformers) (2.2.3)\n",
            "Requirement already satisfied: certifi>=2017.4.17 in /usr/local/lib/python3.10/dist-packages (from requests->transformers) (2024.12.14)\n"
          ]
        }
      ],
      "source": [
        "import json\n",
        "!pip install transformers torch faiss-cpu"
      ]
    },
    {
      "cell_type": "code",
      "source": [
        "pip install openai==0.28"
      ],
      "metadata": {
        "colab": {
          "base_uri": "https://localhost:8080/",
          "height": 584
        },
        "id": "q9Qq62p0-FOJ",
        "outputId": "4f21521a-538c-4c23-fd67-2e2eafe2695b"
      },
      "execution_count": 20,
      "outputs": [
        {
          "output_type": "stream",
          "name": "stdout",
          "text": [
            "Collecting openai==0.28\n",
            "  Downloading openai-0.28.0-py3-none-any.whl.metadata (13 kB)\n",
            "Requirement already satisfied: requests>=2.20 in /usr/local/lib/python3.10/dist-packages (from openai==0.28) (2.32.3)\n",
            "Requirement already satisfied: tqdm in /usr/local/lib/python3.10/dist-packages (from openai==0.28) (4.67.1)\n",
            "Requirement already satisfied: aiohttp in /usr/local/lib/python3.10/dist-packages (from openai==0.28) (3.11.10)\n",
            "Requirement already satisfied: charset-normalizer<4,>=2 in /usr/local/lib/python3.10/dist-packages (from requests>=2.20->openai==0.28) (3.4.0)\n",
            "Requirement already satisfied: idna<4,>=2.5 in /usr/local/lib/python3.10/dist-packages (from requests>=2.20->openai==0.28) (3.10)\n",
            "Requirement already satisfied: urllib3<3,>=1.21.1 in /usr/local/lib/python3.10/dist-packages (from requests>=2.20->openai==0.28) (2.2.3)\n",
            "Requirement already satisfied: certifi>=2017.4.17 in /usr/local/lib/python3.10/dist-packages (from requests>=2.20->openai==0.28) (2024.12.14)\n",
            "Requirement already satisfied: aiohappyeyeballs>=2.3.0 in /usr/local/lib/python3.10/dist-packages (from aiohttp->openai==0.28) (2.4.4)\n",
            "Requirement already satisfied: aiosignal>=1.1.2 in /usr/local/lib/python3.10/dist-packages (from aiohttp->openai==0.28) (1.3.2)\n",
            "Requirement already satisfied: async-timeout<6.0,>=4.0 in /usr/local/lib/python3.10/dist-packages (from aiohttp->openai==0.28) (4.0.3)\n",
            "Requirement already satisfied: attrs>=17.3.0 in /usr/local/lib/python3.10/dist-packages (from aiohttp->openai==0.28) (24.3.0)\n",
            "Requirement already satisfied: frozenlist>=1.1.1 in /usr/local/lib/python3.10/dist-packages (from aiohttp->openai==0.28) (1.5.0)\n",
            "Requirement already satisfied: multidict<7.0,>=4.5 in /usr/local/lib/python3.10/dist-packages (from aiohttp->openai==0.28) (6.1.0)\n",
            "Requirement already satisfied: propcache>=0.2.0 in /usr/local/lib/python3.10/dist-packages (from aiohttp->openai==0.28) (0.2.1)\n",
            "Requirement already satisfied: yarl<2.0,>=1.17.0 in /usr/local/lib/python3.10/dist-packages (from aiohttp->openai==0.28) (1.18.3)\n",
            "Requirement already satisfied: typing-extensions>=4.1.0 in /usr/local/lib/python3.10/dist-packages (from multidict<7.0,>=4.5->aiohttp->openai==0.28) (4.12.2)\n",
            "Downloading openai-0.28.0-py3-none-any.whl (76 kB)\n",
            "\u001b[2K   \u001b[90m━━━━━━━━━━━━━━━━━━━━━━━━━━━━━━━━━━━━━━━━\u001b[0m \u001b[32m76.5/76.5 kB\u001b[0m \u001b[31m3.2 MB/s\u001b[0m eta \u001b[36m0:00:00\u001b[0m\n",
            "\u001b[?25hInstalling collected packages: openai\n",
            "  Attempting uninstall: openai\n",
            "    Found existing installation: openai 1.57.4\n",
            "    Uninstalling openai-1.57.4:\n",
            "      Successfully uninstalled openai-1.57.4\n",
            "Successfully installed openai-0.28.0\n"
          ]
        },
        {
          "output_type": "display_data",
          "data": {
            "application/vnd.colab-display-data+json": {
              "pip_warning": {
                "packages": [
                  "openai"
                ]
              },
              "id": "af4f22ad7da048bcb1c52c16b8328338"
            }
          },
          "metadata": {}
        }
      ]
    },
    {
      "cell_type": "code",
      "source": [
        "with open('/content/drive/MyDrive/Ecommerce_FAQ_Chatbot_dataset.json') as faq_file:\n",
        "  faq_data = json.load(faq_file)"
      ],
      "metadata": {
        "id": "_7poaxMA6QQW"
      },
      "execution_count": 2,
      "outputs": []
    },
    {
      "cell_type": "code",
      "source": [
        "questions = [faq_data['question'] for faq_data in faq_data['questions']]\n",
        "answers = [faq_data['answer'] for faq_data in faq_data['questions']]"
      ],
      "metadata": {
        "id": "Ya1I-RX161pN"
      },
      "execution_count": 3,
      "outputs": []
    },
    {
      "cell_type": "code",
      "source": [
        "print(questions[:5])\n",
        "print(answers[:5])"
      ],
      "metadata": {
        "colab": {
          "base_uri": "https://localhost:8080/"
        },
        "id": "saWCNh2u7J7Z",
        "outputId": "e5a3fd8f-5537-49a6-e7a1-4eca7f16a7f2"
      },
      "execution_count": 4,
      "outputs": [
        {
          "output_type": "stream",
          "name": "stdout",
          "text": [
            "['How can I create an account?', 'What payment methods do you accept?', 'How can I track my order?', 'What is your return policy?', 'Can I cancel my order?']\n",
            "[\"To create an account, click on the 'Sign Up' button on the top right corner of our website and follow the instructions to complete the registration process.\", 'We accept major credit cards, debit cards, and PayPal as payment methods for online orders.', \"You can track your order by logging into your account and navigating to the 'Order History' section. There, you will find the tracking information for your shipment.\", 'Our return policy allows you to return products within 30 days of purchase for a full refund, provided they are in their original condition and packaging. Please refer to our Returns page for detailed instructions.', 'You can cancel your order if it has not been shipped yet. Please contact our customer support team with your order details, and we will assist you with the cancellation process.']\n"
          ]
        }
      ]
    },
    {
      "cell_type": "code",
      "source": [
        "from transformers import AutoTokenizer, AutoModel\n",
        "import torch\n",
        "\n",
        "model_name = \"sentence-transformers/all-MiniLM-L6-v2\"\n",
        "tokenizer = AutoTokenizer.from_pretrained(model_name)\n",
        "model = AutoModel.from_pretrained(model_name)"
      ],
      "metadata": {
        "colab": {
          "base_uri": "https://localhost:8080/"
        },
        "id": "biAFTgcK7lsA",
        "outputId": "0a2cd321-20e0-4ee1-f6be-8afc47b78c9b"
      },
      "execution_count": 5,
      "outputs": [
        {
          "output_type": "stream",
          "name": "stderr",
          "text": [
            "/usr/local/lib/python3.10/dist-packages/huggingface_hub/utils/_auth.py:94: UserWarning: \n",
            "The secret `HF_TOKEN` does not exist in your Colab secrets.\n",
            "To authenticate with the Hugging Face Hub, create a token in your settings tab (https://huggingface.co/settings/tokens), set it as secret in your Google Colab and restart your session.\n",
            "You will be able to reuse this secret in all of your notebooks.\n",
            "Please note that authentication is recommended but still optional to access public models or datasets.\n",
            "  warnings.warn(\n"
          ]
        }
      ]
    },
    {
      "cell_type": "code",
      "source": [
        "def generate_embeddings(texts):\n",
        "  inputs = tokenizer(texts, padding=True, truncation=True, return_tensors=\"pt\")\n",
        "  with torch.no_grad():\n",
        "    outputs = model(**inputs)\n",
        "    # Mean pooling to get sentence embeddings\n",
        "  embeddings = outputs.last_hidden_state.mean(dim=1)\n",
        "  return embeddings.numpy()"
      ],
      "metadata": {
        "id": "5ai_o7eb7OPB"
      },
      "execution_count": 7,
      "outputs": []
    },
    {
      "cell_type": "code",
      "source": [
        "question_embeddings = generate_embeddings(questions)"
      ],
      "metadata": {
        "id": "YCLNI4zP8EzS"
      },
      "execution_count": 8,
      "outputs": []
    },
    {
      "cell_type": "code",
      "source": [
        "import numpy as np\n",
        "import faiss\n",
        "\n",
        "embedding_dim = question_embeddings.shape[1]\n",
        "index = faiss.IndexFlatL2(embedding_dim)\n",
        "\n",
        "# Add embeddings to the index\n",
        "index.add(np.array(question_embeddings))\n",
        "\n",
        "faq_answers = {i: answers[i] for i in range(len(answers))}\n",
        "print(faq_answers)\n"
      ],
      "metadata": {
        "colab": {
          "base_uri": "https://localhost:8080/"
        },
        "id": "iIF9VSlC8K7Q",
        "outputId": "f939869e-a64e-4df2-a148-c1bf9f4be4aa"
      },
      "execution_count": 9,
      "outputs": [
        {
          "output_type": "stream",
          "name": "stdout",
          "text": [
            "{0: \"To create an account, click on the 'Sign Up' button on the top right corner of our website and follow the instructions to complete the registration process.\", 1: 'We accept major credit cards, debit cards, and PayPal as payment methods for online orders.', 2: \"You can track your order by logging into your account and navigating to the 'Order History' section. There, you will find the tracking information for your shipment.\", 3: 'Our return policy allows you to return products within 30 days of purchase for a full refund, provided they are in their original condition and packaging. Please refer to our Returns page for detailed instructions.', 4: 'You can cancel your order if it has not been shipped yet. Please contact our customer support team with your order details, and we will assist you with the cancellation process.', 5: 'Shipping times vary depending on the destination and the shipping method chosen. Standard shipping usually takes 3-5 business days, while express shipping can take 1-2 business days.', 6: 'Yes, we offer international shipping to select countries. The availability and shipping costs will be calculated during the checkout process based on your location.', 7: 'If your package is lost or damaged during transit, please contact our customer support team immediately. We will initiate an investigation and take the necessary steps to resolve the issue.', 8: 'If you need to change your shipping address, please contact our customer support team as soon as possible. We will do our best to update the address if the order has not been shipped yet.', 9: 'You can contact our customer support team by phone at [phone number] or by email at [email address]. Our team is available [working hours] to assist you with any inquiries or issues you may have.', 10: 'Yes, we offer gift wrapping services for an additional fee. During the checkout process, you can select the option to add gift wrapping to your order.', 11: \"We have a price matching policy where we will match the price of an identical product found on a competitor's website. Please contact our customer support team with the details of the product and the competitor's offer.\", 12: 'Unfortunately, we do not accept orders over the phone. Please place your order through our website for a smooth and secure transaction.', 13: 'Yes, we take the security of your personal and payment details seriously. We use industry-standard encryption and follow strict security protocols to ensure your information is protected.', 14: 'If a product you purchased goes on sale within 7 days of your purchase, we offer a one-time price adjustment. Please contact our customer support team with your order details to request the adjustment.', 15: 'Yes, we have a loyalty program where you can earn points for every purchase. These points can be redeemed for discounts on future orders. Please visit our website to learn more and join the program.', 16: 'Yes, you can place an order as a guest without creating an account. However, creating an account offers benefits such as order tracking and easier future purchases.', 17: 'Yes, we offer bulk or wholesale discounts for certain products. Please contact our customer support team or visit our Wholesale page for more information and to discuss your specific requirements.', 18: 'If you need to change or cancel an item in your order, please contact our customer support team as soon as possible. We will assist you with the necessary steps.', 19: \"To leave a product review, navigate to the product page on our website and click on the 'Write a Review' button. You can share your feedback and rating based on your experience with the product.\", 20: 'Usually, only one promo code can be applied per order. During the checkout process, enter the promo code in the designated field to apply the discount to your order.', 21: 'If you receive the wrong item in your order, please contact our customer support team immediately. We will arrange for the correct item to be shipped to you and assist with returning the wrong item.', 22: 'Yes, we offer expedited shipping options for faster delivery. During the checkout process, you can select the desired expedited shipping method.', 23: 'If a product is currently out of stock, you will usually see an option to sign up for product notifications. This way, you will be alerted when the product becomes available again.', 24: 'Our email newsletter provides updates on new product releases, exclusive offers, and helpful tips related to our products. You can subscribe to our newsletter on our website.', 25: 'Yes, you can return a product if you changed your mind. Please ensure the product is in its original condition and packaging, and refer to our return policy for instructions.', 26: 'Yes, we offer live chat support on our website during our business hours. Look for the chat icon in the bottom right corner to initiate a chat with our customer support team.', 27: \"Yes, you can order a product as a gift and have it shipped directly to the recipient. During the checkout process, you can enter the recipient's shipping address.\", 28: 'If your discount code is not working, please double-check the terms and conditions associated with the code. If the issue persists, contact our customer support team for assistance.', 29: 'Final sale items are usually non-returnable and non-refundable. Please review the product description or contact our customer support team to confirm the return eligibility for specific items.', 30: 'Installation services are available for select products. Please check the product description or contact our customer support team for more information and to request installation services.', 31: 'Discontinued products are no longer available for purchase. We recommend exploring alternative products on our website.', 32: 'A receipt or proof of purchase is usually required for returns. Please refer to our return policy or contact our customer support team for assistance.', 33: 'Yes, we offer international shipping to select countries. Please review the available shipping destinations during checkout or contact our customer support for assistance.', 34: 'Yes, you can add a gift message during the checkout process. There is usually a section where you can enter your personalized message.', 35: 'We do not currently offer product demonstrations before purchase. However, you can find detailed product descriptions, specifications, and customer reviews on our website.', 36: \"Products listed as 'coming soon' are not available for immediate purchase. Please sign up for notifications to be informed when the product becomes available.\", 37: 'Yes, an invoice is usually included with your order. If you require a separate invoice, please contact our customer support team with your order details.', 38: \"'Limited edition' products may have restricted availability. We recommend placing an order as soon as possible to secure your item.\", 39: 'While returning a product in its original packaging is preferred, you can still initiate a return without it. Contact our customer support team for guidance in such cases.', 40: 'We do not offer reservations for out-of-stock products. However, you can sign up for product notifications to be alerted when it becomes available again.', 41: 'Yes, you can place an order with a mix of pre-order and in-stock items. However, please note that the entire order will be shipped once all items are available.', 42: 'If your product was damaged during shipping, please contact our customer support team immediately. We will guide you through the return and replacement process.', 43: 'We strive to restock popular products whenever possible. Please sign up for product notifications to be informed when the item becomes available again.', 44: \"Products listed as 'backordered' are temporarily out of stock but can still be ordered. Your order will be fulfilled once the product is restocked.\", 45: 'Yes, you can return a product purchased during a sale or with a discount. The refund will be processed based on the amount paid after the discount.', 46: 'If you receive a damaged product, please contact our customer support team immediately. We will assist you with the necessary steps for repair or replacement.', 47: 'If a product is available for pre-order, you can place an order to secure your item. The product will be shipped once it becomes available.', 48: 'Yes, you can return a product purchased as a gift. However, refunds will typically be issued to the original payment method used for the purchase.', 49: \"Unfortunately, if a product is listed as 'discontinued,' it is no longer available for purchase. We recommend exploring alternative products on our website.\", 50: \"If a product is listed as 'sold out,' it is currently unavailable for purchase. Please check back later or sign up for notifications when it becomes available again.\", 51: 'Yes, you can return a product purchased with a gift card. The refund will be issued in the form of store credit or a new gift card.', 52: 'If a product is not available in your size, it may be temporarily out of stock. Please check back later or sign up for size notifications.', 53: \"If a product is listed as 'coming soon' and available for pre-order, you can place an order to secure your item before it becomes available.\", 54: 'Yes, you can return a product purchased with a discount code. The refund will be processed based on the amount paid after the discount.', 55: 'We do not currently offer custom orders or personalized products. Please explore the available products on our website.', 56: \"If a product is listed as 'temporarily unavailable,' it is out of stock but may be restocked in the future. Please check back later or sign up for notifications.\", 57: 'Our return policy generally covers products that are defective or damaged upon arrival. Damage due to improper use may not be eligible for a return. Please contact our customer support team for assistance.', 58: \"If a product is listed as 'coming soon' but not available for pre-order, you will need to wait until it is officially released and becomes available for purchase.\", 59: \"If a product is listed as 'on hold,' it is temporarily unavailable for purchase. Please check back later or sign up for notifications when it becomes available.\", 60: 'While a receipt is preferred for returns, we may be able to assist you without it. Please contact our customer support team for further guidance.', 61: 'Once a limited edition product is sold out, it may not be restocked. Limited edition items are available for a limited time only, so we recommend purchasing them while they are available.', 62: \"If a product is listed as 'discontinued' but still visible on the website, it may be an error. Please contact our customer support team for clarification.\", 63: 'Clearance or final sale items are typically non-returnable and non-refundable. Please review the product description or contact our customer support team for more information.', 64: 'If a product is not listed on our website, it may not be available for purchase. We recommend exploring the available products or contacting our customer support team for further assistance.', 65: \"If a product is listed as 'out of stock' but available for backorder, you can place an order to secure your item. The product will be shipped once it becomes available.\", 66: 'If a product was purchased as part of a bundle or set, the return policy may vary. Please refer to the specific terms and conditions or contact our customer support team for further guidance.', 67: 'We aim to restock popular products whenever possible. Please sign up for product notifications to be alerted when the item becomes available again.', 68: \"If a product is listed as 'coming soon' and available for pre-order, you can place an order to secure your item before it becomes available.\", 69: 'If your product was damaged due to mishandling during shipping, please contact our customer support team immediately. We will assist you with the necessary steps for return and replacement.', 70: 'We do not offer reservations for out-of-stock products. However, you can sign up for product notifications to be alerted when the item becomes available again.', 71: \"If a product is listed as 'pre-order' and available for backorder, you can place an order to secure your item. The product will be shipped once it becomes available.\", 72: 'Yes, you can return a product purchased with store credit. The refund will be issued in the form of store credit, which you can use for future purchases.', 73: 'We strive to restock popular products whenever possible. Please sign up for product notifications to be informed when the item becomes available again.', 74: \"If a product is listed as 'sold out' but available for pre-order, you can place an order to secure your item. The product will be shipped once it becomes available.\", 75: 'Yes, you can return a product purchased with a promotional gift card. The refund will be issued in the form of store credit or a new gift card.', 76: 'If a product is not available in your preferred color, it may be temporarily out of stock. Please check back later or sign up for color notifications.', 77: \"If a product is listed as 'coming soon' but not available for pre-order, you will need to wait until it is officially released and becomes available for purchase.\", 78: 'Yes, you can return a product purchased during a promotional event. The refund will be processed based on the amount paid after any applicable discounts.'}\n"
          ]
        }
      ]
    },
    {
      "cell_type": "code",
      "source": [
        "def get_answer(user_query):\n",
        "  query_embedding = generate_embeddings([user_query])\n",
        "  _, indices = index.search(query_embedding, k=1)\n",
        "  answer_index = indices[0][0]\n",
        "  return faq_answers[answer_index]\n",
        "\n",
        "get_answer(\"What is the return policy?\")"
      ],
      "metadata": {
        "colab": {
          "base_uri": "https://localhost:8080/",
          "height": 53
        },
        "id": "P4X53CLE8u1L",
        "outputId": "7672b40c-a31c-4b3d-eb68-2f7761ffcfda"
      },
      "execution_count": 10,
      "outputs": [
        {
          "output_type": "execute_result",
          "data": {
            "text/plain": [
              "'Our return policy allows you to return products within 30 days of purchase for a full refund, provided they are in their original condition and packaging. Please refer to our Returns page for detailed instructions.'"
            ],
            "application/vnd.google.colaboratory.intrinsic+json": {
              "type": "string"
            }
          },
          "metadata": {},
          "execution_count": 10
        }
      ]
    },
    {
      "cell_type": "code",
      "source": [
        "def get_answer(user_query):\n",
        "  query_embedding = generate_embeddings([user_query])\n",
        "  distances, indices = index.search(query_embedding, k=3)\n",
        "  print(distances)\n",
        "  print(indices)\n",
        "  answers = [faq_answers[i] for i in indices[0]]\n",
        "  return answers\n",
        "  #return faq_answers[answer_index]\n",
        "\n",
        "get_answer(\"What is the return policy?\")"
      ],
      "metadata": {
        "colab": {
          "base_uri": "https://localhost:8080/"
        },
        "id": "LEL6eKHD9JOE",
        "outputId": "0a8ed8fa-7ce6-434c-b205-27286e94ae5c"
      },
      "execution_count": 11,
      "outputs": [
        {
          "output_type": "stream",
          "name": "stdout",
          "text": [
            "[[23.704485 29.966068 33.565384]]\n",
            "[[ 3 45 63]]\n"
          ]
        },
        {
          "output_type": "execute_result",
          "data": {
            "text/plain": [
              "['Our return policy allows you to return products within 30 days of purchase for a full refund, provided they are in their original condition and packaging. Please refer to our Returns page for detailed instructions.',\n",
              " 'Yes, you can return a product purchased during a sale or with a discount. The refund will be processed based on the amount paid after the discount.',\n",
              " 'Clearance or final sale items are typically non-returnable and non-refundable. Please review the product description or contact our customer support team for more information.']"
            ]
          },
          "metadata": {},
          "execution_count": 11
        }
      ]
    },
    {
      "cell_type": "code",
      "source": [
        "import openai\n",
        "import os\n",
        "import time\n",
        "\n",
        "openai.api_key = \"your-openai-key\" # Replace YOUR_API_KEY with your actual API key\n",
        "\n",
        "def generate_response(user_query):\n",
        "    retrieved_answer = get_answer(user_query)\n",
        "\n",
        "    # Construct prompt\n",
        "    prompt = f\"\"\"\n",
        "    User asked: \"{user_query}\"\n",
        "    Based on the FAQ, here is the related answer: \"{retrieved_answer}\"\n",
        "    Provide a helpful and conversational response to the user.\n",
        "    \"\"\"\n",
        "\n",
        "    # Use GPT model to generate the final response\n",
        "    response = openai.Completion.create(\n",
        "        engine=\"gpt-3.5-turbo-instruct\",\n",
        "        prompt=prompt,\n",
        "        max_tokens=150,\n",
        "        temperature=0.7\n",
        "    )\n",
        "    time.sleep(5)\n",
        "\n",
        "    return response['choices'][0]['text'].strip()\n",
        "\n",
        "generate_response(\"What is the return policy?\")"
      ],
      "metadata": {
        "id": "MkxKMUfA9nsd"
      },
      "execution_count": null,
      "outputs": []
    },
    {
      "cell_type": "code",
      "source": [],
      "metadata": {
        "id": "byN1Y8eD-PP4"
      },
      "execution_count": null,
      "outputs": []
    }
  ]
}